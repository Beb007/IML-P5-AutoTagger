{
 "cells": [
  {
   "cell_type": "markdown",
   "id": "c66bf468",
   "metadata": {},
   "source": [
    "# Suggestion de Tags - Approche non supervisée"
   ]
  },
  {
   "cell_type": "markdown",
   "id": "d067e16f",
   "metadata": {},
   "source": [
    "#### Divers: Imports, options"
   ]
  },
  {
   "cell_type": "code",
   "execution_count": 1,
   "id": "7c2ed2cf",
   "metadata": {},
   "outputs": [],
   "source": [
    "%load_ext pycodestyle_magic\n",
    "%flake8_on --max_line_length 130"
   ]
  },
  {
   "cell_type": "code",
   "execution_count": 2,
   "id": "6288e7a9",
   "metadata": {},
   "outputs": [],
   "source": [
    "# suppression des \"FutureWarning\"\n",
    "import warnings\n",
    "warnings.simplefilter(action='ignore', category=FutureWarning)"
   ]
  },
  {
   "cell_type": "code",
   "execution_count": 3,
   "id": "fa6633be",
   "metadata": {},
   "outputs": [],
   "source": [
    "import time as time\n",
    "import pandas as pd\n",
    "import numpy as np\n",
    "import matplotlib.pyplot as plt\n",
    "import nltk"
   ]
  },
  {
   "cell_type": "code",
   "execution_count": 4,
   "id": "0a598ab0",
   "metadata": {},
   "outputs": [],
   "source": [
    "pd.set_option('display.max_columns', None)"
   ]
  },
  {
   "cell_type": "markdown",
   "id": "b0a31f54",
   "metadata": {},
   "source": [
    "## Chargement Données"
   ]
  },
  {
   "cell_type": "code",
   "execution_count": 5,
   "id": "4dee0b85",
   "metadata": {},
   "outputs": [
    {
     "data": {
      "text/html": [
       "<div>\n",
       "<style scoped>\n",
       "    .dataframe tbody tr th:only-of-type {\n",
       "        vertical-align: middle;\n",
       "    }\n",
       "\n",
       "    .dataframe tbody tr th {\n",
       "        vertical-align: top;\n",
       "    }\n",
       "\n",
       "    .dataframe thead th {\n",
       "        text-align: right;\n",
       "    }\n",
       "</style>\n",
       "<table border=\"1\" class=\"dataframe\">\n",
       "  <thead>\n",
       "    <tr style=\"text-align: right;\">\n",
       "      <th></th>\n",
       "      <th>Title</th>\n",
       "      <th>Body</th>\n",
       "      <th>Tags</th>\n",
       "      <th>Text</th>\n",
       "    </tr>\n",
       "  </thead>\n",
       "  <tbody>\n",
       "    <tr>\n",
       "      <th>0</th>\n",
       "      <td>java record array</td>\n",
       "      <td>give follow code public static void main strin...</td>\n",
       "      <td>&lt;java&gt;&lt;arrays&gt;&lt;java-14&gt;&lt;java-record&gt;</td>\n",
       "      <td>java record array give follow code public stat...</td>\n",
       "    </tr>\n",
       "    <tr>\n",
       "      <th>1</th>\n",
       "      <td>blue flicker stripe mbp chrome</td>\n",
       "      <td>new macbook pro late catalina recently find we...</td>\n",
       "      <td>&lt;google-chrome&gt;&lt;graphics&gt;&lt;macos-catalina&gt;</td>\n",
       "      <td>blue flicker stripe mbp chrome new macbook pro...</td>\n",
       "    </tr>\n",
       "    <tr>\n",
       "      <th>2</th>\n",
       "      <td>create dependson relation ec rds use aws cdk</td>\n",
       "      <td>currently use aws cdk typescript create stack ...</td>\n",
       "      <td>&lt;amazon-web-services&gt;&lt;amazon-ec2&gt;&lt;amazon-rds&gt;&lt;...</td>\n",
       "      <td>create dependson relation ec rds use aws cdk c...</td>\n",
       "    </tr>\n",
       "    <tr>\n",
       "      <th>3</th>\n",
       "      <td>colab class weight cause valueerror truth valu...</td>\n",
       "      <td>run cnn kera sequential google colab get follo...</td>\n",
       "      <td>&lt;python&gt;&lt;tensorflow&gt;&lt;keras&gt;&lt;google-colaborator...</td>\n",
       "      <td>colab class weight cause valueerror truth valu...</td>\n",
       "    </tr>\n",
       "    <tr>\n",
       "      <th>4</th>\n",
       "      <td>pas custom function inside foreach object para...</td>\n",
       "      <td>find way pas function variable idea without pu...</td>\n",
       "      <td>&lt;powershell&gt;&lt;powershell-core&gt;</td>\n",
       "      <td>pas custom function inside foreach object para...</td>\n",
       "    </tr>\n",
       "    <tr>\n",
       "      <th>...</th>\n",
       "      <td>...</td>\n",
       "      <td>...</td>\n",
       "      <td>...</td>\n",
       "      <td>...</td>\n",
       "    </tr>\n",
       "    <tr>\n",
       "      <th>8064</th>\n",
       "      <td>daemon stop immediately jvm garbage collector ...</td>\n",
       "      <td>build multi module java project use gradle add...</td>\n",
       "      <td>&lt;java&gt;&lt;gradle&gt;</td>\n",
       "      <td>daemon stop immediately jvm garbage collector ...</td>\n",
       "    </tr>\n",
       "    <tr>\n",
       "      <th>8065</th>\n",
       "      <td>difference mono flux fromcallable mono defer</td>\n",
       "      <td>usually requirement generate mono flux whose v...</td>\n",
       "      <td>&lt;spring-webflux&gt;&lt;project-reactor&gt;</td>\n",
       "      <td>difference mono flux fromcallable mono defer u...</td>\n",
       "    </tr>\n",
       "    <tr>\n",
       "      <th>8066</th>\n",
       "      <td>compare generic structs c</td>\n",
       "      <td>want compare structs generic way do something ...</td>\n",
       "      <td>&lt;c++&gt;&lt;templates&gt;&lt;struct&gt;&lt;padding&gt;&lt;memcmp&gt;</td>\n",
       "      <td>compare generic structs c want compare structs...</td>\n",
       "    </tr>\n",
       "    <tr>\n",
       "      <th>8067</th>\n",
       "      <td>set custom http error kubernetes</td>\n",
       "      <td>want create custom error page currently alread...</td>\n",
       "      <td>&lt;kubernetes&gt;&lt;kubernetes-ingress&gt;</td>\n",
       "      <td>set custom http error kubernetes want create c...</td>\n",
       "    </tr>\n",
       "    <tr>\n",
       "      <th>8068</th>\n",
       "      <td>docker can not build multi platform image dock...</td>\n",
       "      <td>try build multi platform amd arm armv image us...</td>\n",
       "      <td>&lt;linux&gt;&lt;docker&gt;</td>\n",
       "      <td>docker can not build multi platform image dock...</td>\n",
       "    </tr>\n",
       "  </tbody>\n",
       "</table>\n",
       "<p>8069 rows × 4 columns</p>\n",
       "</div>"
      ],
      "text/plain": [
       "                                                  Title  \\\n",
       "0                                     java record array   \n",
       "1                        blue flicker stripe mbp chrome   \n",
       "2          create dependson relation ec rds use aws cdk   \n",
       "3     colab class weight cause valueerror truth valu...   \n",
       "4     pas custom function inside foreach object para...   \n",
       "...                                                 ...   \n",
       "8064  daemon stop immediately jvm garbage collector ...   \n",
       "8065       difference mono flux fromcallable mono defer   \n",
       "8066                          compare generic structs c   \n",
       "8067                   set custom http error kubernetes   \n",
       "8068  docker can not build multi platform image dock...   \n",
       "\n",
       "                                                   Body  \\\n",
       "0     give follow code public static void main strin...   \n",
       "1     new macbook pro late catalina recently find we...   \n",
       "2     currently use aws cdk typescript create stack ...   \n",
       "3     run cnn kera sequential google colab get follo...   \n",
       "4     find way pas function variable idea without pu...   \n",
       "...                                                 ...   \n",
       "8064  build multi module java project use gradle add...   \n",
       "8065  usually requirement generate mono flux whose v...   \n",
       "8066  want compare structs generic way do something ...   \n",
       "8067  want create custom error page currently alread...   \n",
       "8068  try build multi platform amd arm armv image us...   \n",
       "\n",
       "                                                   Tags  \\\n",
       "0                  <java><arrays><java-14><java-record>   \n",
       "1             <google-chrome><graphics><macos-catalina>   \n",
       "2     <amazon-web-services><amazon-ec2><amazon-rds><...   \n",
       "3     <python><tensorflow><keras><google-colaborator...   \n",
       "4                         <powershell><powershell-core>   \n",
       "...                                                 ...   \n",
       "8064                                     <java><gradle>   \n",
       "8065                  <spring-webflux><project-reactor>   \n",
       "8066          <c++><templates><struct><padding><memcmp>   \n",
       "8067                   <kubernetes><kubernetes-ingress>   \n",
       "8068                                    <linux><docker>   \n",
       "\n",
       "                                                   Text  \n",
       "0     java record array give follow code public stat...  \n",
       "1     blue flicker stripe mbp chrome new macbook pro...  \n",
       "2     create dependson relation ec rds use aws cdk c...  \n",
       "3     colab class weight cause valueerror truth valu...  \n",
       "4     pas custom function inside foreach object para...  \n",
       "...                                                 ...  \n",
       "8064  daemon stop immediately jvm garbage collector ...  \n",
       "8065  difference mono flux fromcallable mono defer u...  \n",
       "8066  compare generic structs c want compare structs...  \n",
       "8067  set custom http error kubernetes want create c...  \n",
       "8068  docker can not build multi platform image dock...  \n",
       "\n",
       "[8069 rows x 4 columns]"
      ]
     },
     "execution_count": 5,
     "metadata": {},
     "output_type": "execute_result"
    }
   ],
   "source": [
    "df = pd.read_csv(\"questions_clean.csv\", index_col=0)\n",
    "df"
   ]
  },
  {
   "cell_type": "code",
   "execution_count": 6,
   "id": "5618f330",
   "metadata": {},
   "outputs": [
    {
     "data": {
      "text/plain": [
       "'java record array give follow code public static void main string args record foo int ints var ints new int var foo new foo ints system println foo foo ints system println new foo new int equal new foo new int false system println new foo ints equal new foo ints true system println foo equal foo true seem obviously array tostring equal method use instead static method array equal array deepequals array tostring guess java record jep work well arrays respective method generate ide least intellij default generates useful method e use static method array solution'"
      ]
     },
     "execution_count": 6,
     "metadata": {},
     "output_type": "execute_result"
    }
   ],
   "source": [
    "df['Text'][0]"
   ]
  },
  {
   "cell_type": "markdown",
   "id": "863fd052",
   "metadata": {},
   "source": [
    "## Tokenization"
   ]
  },
  {
   "cell_type": "code",
   "execution_count": 7,
   "id": "87194f5e",
   "metadata": {
    "scrolled": true
   },
   "outputs": [],
   "source": [
    "tokenizer = nltk.RegexpTokenizer(r'\\w+')\n",
    "df['Text_tok'] = df['Text'].map(tokenizer.tokenize)"
   ]
  },
  {
   "cell_type": "code",
   "execution_count": 8,
   "id": "bd2aaf44",
   "metadata": {},
   "outputs": [],
   "source": [
    "df['FreqDist'] = df['Text_tok'].map(nltk.FreqDist)\n",
    "df['WordCount'] = df['Text_tok'].map(len)\n",
    "df['UniqueWordCount'] = df['FreqDist'].map(len)"
   ]
  },
  {
   "cell_type": "code",
   "execution_count": 9,
   "id": "81b8230d",
   "metadata": {},
   "outputs": [
    {
     "data": {
      "text/html": [
       "<div>\n",
       "<style scoped>\n",
       "    .dataframe tbody tr th:only-of-type {\n",
       "        vertical-align: middle;\n",
       "    }\n",
       "\n",
       "    .dataframe tbody tr th {\n",
       "        vertical-align: top;\n",
       "    }\n",
       "\n",
       "    .dataframe thead th {\n",
       "        text-align: right;\n",
       "    }\n",
       "</style>\n",
       "<table border=\"1\" class=\"dataframe\">\n",
       "  <thead>\n",
       "    <tr style=\"text-align: right;\">\n",
       "      <th></th>\n",
       "      <th>Title</th>\n",
       "      <th>Body</th>\n",
       "      <th>Tags</th>\n",
       "      <th>Text</th>\n",
       "      <th>Text_tok</th>\n",
       "      <th>FreqDist</th>\n",
       "      <th>WordCount</th>\n",
       "      <th>UniqueWordCount</th>\n",
       "    </tr>\n",
       "  </thead>\n",
       "  <tbody>\n",
       "    <tr>\n",
       "      <th>0</th>\n",
       "      <td>java record array</td>\n",
       "      <td>give follow code public static void main strin...</td>\n",
       "      <td>&lt;java&gt;&lt;arrays&gt;&lt;java-14&gt;&lt;java-record&gt;</td>\n",
       "      <td>java record array give follow code public stat...</td>\n",
       "      <td>[java, record, array, give, follow, code, publ...</td>\n",
       "      <td>{'java': 2, 'record': 3, 'array': 6, 'give': 1...</td>\n",
       "      <td>97</td>\n",
       "      <td>44</td>\n",
       "    </tr>\n",
       "    <tr>\n",
       "      <th>1</th>\n",
       "      <td>blue flicker stripe mbp chrome</td>\n",
       "      <td>new macbook pro late catalina recently find we...</td>\n",
       "      <td>&lt;google-chrome&gt;&lt;graphics&gt;&lt;macos-catalina&gt;</td>\n",
       "      <td>blue flicker stripe mbp chrome new macbook pro...</td>\n",
       "      <td>[blue, flicker, stripe, mbp, chrome, new, macb...</td>\n",
       "      <td>{'blue': 2, 'flicker': 2, 'stripe': 2, 'mbp': ...</td>\n",
       "      <td>58</td>\n",
       "      <td>49</td>\n",
       "    </tr>\n",
       "    <tr>\n",
       "      <th>2</th>\n",
       "      <td>create dependson relation ec rds use aws cdk</td>\n",
       "      <td>currently use aws cdk typescript create stack ...</td>\n",
       "      <td>&lt;amazon-web-services&gt;&lt;amazon-ec2&gt;&lt;amazon-rds&gt;&lt;...</td>\n",
       "      <td>create dependson relation ec rds use aws cdk c...</td>\n",
       "      <td>[create, dependson, relation, ec, rds, use, aw...</td>\n",
       "      <td>{'create': 2, 'dependson': 2, 'relation': 1, '...</td>\n",
       "      <td>70</td>\n",
       "      <td>43</td>\n",
       "    </tr>\n",
       "    <tr>\n",
       "      <th>3</th>\n",
       "      <td>colab class weight cause valueerror truth valu...</td>\n",
       "      <td>run cnn kera sequential google colab get follo...</td>\n",
       "      <td>&lt;python&gt;&lt;tensorflow&gt;&lt;keras&gt;&lt;google-colaborator...</td>\n",
       "      <td>colab class weight cause valueerror truth valu...</td>\n",
       "      <td>[colab, class, weight, cause, valueerror, trut...</td>\n",
       "      <td>{'colab': 2, 'class': 11, 'weight': 8, 'cause'...</td>\n",
       "      <td>447</td>\n",
       "      <td>187</td>\n",
       "    </tr>\n",
       "    <tr>\n",
       "      <th>4</th>\n",
       "      <td>pas custom function inside foreach object para...</td>\n",
       "      <td>find way pas function variable idea without pu...</td>\n",
       "      <td>&lt;powershell&gt;&lt;powershell-core&gt;</td>\n",
       "      <td>pas custom function inside foreach object para...</td>\n",
       "      <td>[pas, custom, function, inside, foreach, objec...</td>\n",
       "      <td>{'pas': 2, 'custom': 1, 'function': 4, 'inside...</td>\n",
       "      <td>36</td>\n",
       "      <td>23</td>\n",
       "    </tr>\n",
       "    <tr>\n",
       "      <th>...</th>\n",
       "      <td>...</td>\n",
       "      <td>...</td>\n",
       "      <td>...</td>\n",
       "      <td>...</td>\n",
       "      <td>...</td>\n",
       "      <td>...</td>\n",
       "      <td>...</td>\n",
       "      <td>...</td>\n",
       "    </tr>\n",
       "    <tr>\n",
       "      <th>8064</th>\n",
       "      <td>daemon stop immediately jvm garbage collector ...</td>\n",
       "      <td>build multi module java project use gradle add...</td>\n",
       "      <td>&lt;java&gt;&lt;gradle&gt;</td>\n",
       "      <td>daemon stop immediately jvm garbage collector ...</td>\n",
       "      <td>[daemon, stop, immediately, jvm, garbage, coll...</td>\n",
       "      <td>{'daemon': 16, 'stop': 3, 'immediately': 2, 'j...</td>\n",
       "      <td>144</td>\n",
       "      <td>50</td>\n",
       "    </tr>\n",
       "    <tr>\n",
       "      <th>8065</th>\n",
       "      <td>difference mono flux fromcallable mono defer</td>\n",
       "      <td>usually requirement generate mono flux whose v...</td>\n",
       "      <td>&lt;spring-webflux&gt;&lt;project-reactor&gt;</td>\n",
       "      <td>difference mono flux fromcallable mono defer u...</td>\n",
       "      <td>[difference, mono, flux, fromcallable, mono, d...</td>\n",
       "      <td>{'difference': 3, 'mono': 9, 'flux': 2, 'fromc...</td>\n",
       "      <td>69</td>\n",
       "      <td>42</td>\n",
       "    </tr>\n",
       "    <tr>\n",
       "      <th>8066</th>\n",
       "      <td>compare generic structs c</td>\n",
       "      <td>want compare structs generic way do something ...</td>\n",
       "      <td>&lt;c++&gt;&lt;templates&gt;&lt;struct&gt;&lt;padding&gt;&lt;memcmp&gt;</td>\n",
       "      <td>compare generic structs c want compare structs...</td>\n",
       "      <td>[compare, generic, structs, c, want, compare, ...</td>\n",
       "      <td>{'compare': 4, 'generic': 3, 'structs': 4, 'c'...</td>\n",
       "      <td>103</td>\n",
       "      <td>69</td>\n",
       "    </tr>\n",
       "    <tr>\n",
       "      <th>8067</th>\n",
       "      <td>set custom http error kubernetes</td>\n",
       "      <td>want create custom error page currently alread...</td>\n",
       "      <td>&lt;kubernetes&gt;&lt;kubernetes-ingress&gt;</td>\n",
       "      <td>set custom http error kubernetes want create c...</td>\n",
       "      <td>[set, custom, http, error, kubernetes, want, c...</td>\n",
       "      <td>{'set': 1, 'custom': 5, 'http': 7, 'error': 5,...</td>\n",
       "      <td>183</td>\n",
       "      <td>83</td>\n",
       "    </tr>\n",
       "    <tr>\n",
       "      <th>8068</th>\n",
       "      <td>docker can not build multi platform image dock...</td>\n",
       "      <td>try build multi platform amd arm armv image us...</td>\n",
       "      <td>&lt;linux&gt;&lt;docker&gt;</td>\n",
       "      <td>docker can not build multi platform image dock...</td>\n",
       "      <td>[docker, can, not, build, multi, platform, ima...</td>\n",
       "      <td>{'docker': 24, 'can': 1, 'not': 1, 'build': 8,...</td>\n",
       "      <td>967</td>\n",
       "      <td>267</td>\n",
       "    </tr>\n",
       "  </tbody>\n",
       "</table>\n",
       "<p>8069 rows × 8 columns</p>\n",
       "</div>"
      ],
      "text/plain": [
       "                                                  Title  \\\n",
       "0                                     java record array   \n",
       "1                        blue flicker stripe mbp chrome   \n",
       "2          create dependson relation ec rds use aws cdk   \n",
       "3     colab class weight cause valueerror truth valu...   \n",
       "4     pas custom function inside foreach object para...   \n",
       "...                                                 ...   \n",
       "8064  daemon stop immediately jvm garbage collector ...   \n",
       "8065       difference mono flux fromcallable mono defer   \n",
       "8066                          compare generic structs c   \n",
       "8067                   set custom http error kubernetes   \n",
       "8068  docker can not build multi platform image dock...   \n",
       "\n",
       "                                                   Body  \\\n",
       "0     give follow code public static void main strin...   \n",
       "1     new macbook pro late catalina recently find we...   \n",
       "2     currently use aws cdk typescript create stack ...   \n",
       "3     run cnn kera sequential google colab get follo...   \n",
       "4     find way pas function variable idea without pu...   \n",
       "...                                                 ...   \n",
       "8064  build multi module java project use gradle add...   \n",
       "8065  usually requirement generate mono flux whose v...   \n",
       "8066  want compare structs generic way do something ...   \n",
       "8067  want create custom error page currently alread...   \n",
       "8068  try build multi platform amd arm armv image us...   \n",
       "\n",
       "                                                   Tags  \\\n",
       "0                  <java><arrays><java-14><java-record>   \n",
       "1             <google-chrome><graphics><macos-catalina>   \n",
       "2     <amazon-web-services><amazon-ec2><amazon-rds><...   \n",
       "3     <python><tensorflow><keras><google-colaborator...   \n",
       "4                         <powershell><powershell-core>   \n",
       "...                                                 ...   \n",
       "8064                                     <java><gradle>   \n",
       "8065                  <spring-webflux><project-reactor>   \n",
       "8066          <c++><templates><struct><padding><memcmp>   \n",
       "8067                   <kubernetes><kubernetes-ingress>   \n",
       "8068                                    <linux><docker>   \n",
       "\n",
       "                                                   Text  \\\n",
       "0     java record array give follow code public stat...   \n",
       "1     blue flicker stripe mbp chrome new macbook pro...   \n",
       "2     create dependson relation ec rds use aws cdk c...   \n",
       "3     colab class weight cause valueerror truth valu...   \n",
       "4     pas custom function inside foreach object para...   \n",
       "...                                                 ...   \n",
       "8064  daemon stop immediately jvm garbage collector ...   \n",
       "8065  difference mono flux fromcallable mono defer u...   \n",
       "8066  compare generic structs c want compare structs...   \n",
       "8067  set custom http error kubernetes want create c...   \n",
       "8068  docker can not build multi platform image dock...   \n",
       "\n",
       "                                               Text_tok  \\\n",
       "0     [java, record, array, give, follow, code, publ...   \n",
       "1     [blue, flicker, stripe, mbp, chrome, new, macb...   \n",
       "2     [create, dependson, relation, ec, rds, use, aw...   \n",
       "3     [colab, class, weight, cause, valueerror, trut...   \n",
       "4     [pas, custom, function, inside, foreach, objec...   \n",
       "...                                                 ...   \n",
       "8064  [daemon, stop, immediately, jvm, garbage, coll...   \n",
       "8065  [difference, mono, flux, fromcallable, mono, d...   \n",
       "8066  [compare, generic, structs, c, want, compare, ...   \n",
       "8067  [set, custom, http, error, kubernetes, want, c...   \n",
       "8068  [docker, can, not, build, multi, platform, ima...   \n",
       "\n",
       "                                               FreqDist  WordCount  \\\n",
       "0     {'java': 2, 'record': 3, 'array': 6, 'give': 1...         97   \n",
       "1     {'blue': 2, 'flicker': 2, 'stripe': 2, 'mbp': ...         58   \n",
       "2     {'create': 2, 'dependson': 2, 'relation': 1, '...         70   \n",
       "3     {'colab': 2, 'class': 11, 'weight': 8, 'cause'...        447   \n",
       "4     {'pas': 2, 'custom': 1, 'function': 4, 'inside...         36   \n",
       "...                                                 ...        ...   \n",
       "8064  {'daemon': 16, 'stop': 3, 'immediately': 2, 'j...        144   \n",
       "8065  {'difference': 3, 'mono': 9, 'flux': 2, 'fromc...         69   \n",
       "8066  {'compare': 4, 'generic': 3, 'structs': 4, 'c'...        103   \n",
       "8067  {'set': 1, 'custom': 5, 'http': 7, 'error': 5,...        183   \n",
       "8068  {'docker': 24, 'can': 1, 'not': 1, 'build': 8,...        967   \n",
       "\n",
       "      UniqueWordCount  \n",
       "0                  44  \n",
       "1                  49  \n",
       "2                  43  \n",
       "3                 187  \n",
       "4                  23  \n",
       "...               ...  \n",
       "8064               50  \n",
       "8065               42  \n",
       "8066               69  \n",
       "8067               83  \n",
       "8068              267  \n",
       "\n",
       "[8069 rows x 8 columns]"
      ]
     },
     "execution_count": 9,
     "metadata": {},
     "output_type": "execute_result"
    }
   ],
   "source": [
    "df"
   ]
  },
  {
   "cell_type": "markdown",
   "id": "647fb3a2",
   "metadata": {},
   "source": [
    "## Analyse exploratoire : Visualisations"
   ]
  },
  {
   "cell_type": "code",
   "execution_count": null,
   "id": "5d1d7543",
   "metadata": {
    "scrolled": false
   },
   "outputs": [
    {
     "data": {
      "text/html": [
       "<div>\n",
       "<style scoped>\n",
       "    .dataframe tbody tr th:only-of-type {\n",
       "        vertical-align: middle;\n",
       "    }\n",
       "\n",
       "    .dataframe tbody tr th {\n",
       "        vertical-align: top;\n",
       "    }\n",
       "\n",
       "    .dataframe thead th {\n",
       "        text-align: right;\n",
       "    }\n",
       "</style>\n",
       "<table border=\"1\" class=\"dataframe\">\n",
       "  <thead>\n",
       "    <tr style=\"text-align: right;\">\n",
       "      <th></th>\n",
       "      <th>UniqueWordCount</th>\n",
       "      <th>WordCount</th>\n",
       "    </tr>\n",
       "  </thead>\n",
       "  <tbody>\n",
       "    <tr>\n",
       "      <th>2476</th>\n",
       "      <td>6</td>\n",
       "      <td>8</td>\n",
       "    </tr>\n",
       "    <tr>\n",
       "      <th>3024</th>\n",
       "      <td>7</td>\n",
       "      <td>9</td>\n",
       "    </tr>\n",
       "    <tr>\n",
       "      <th>3191</th>\n",
       "      <td>10</td>\n",
       "      <td>10</td>\n",
       "    </tr>\n",
       "    <tr>\n",
       "      <th>5464</th>\n",
       "      <td>8</td>\n",
       "      <td>10</td>\n",
       "    </tr>\n",
       "    <tr>\n",
       "      <th>3299</th>\n",
       "      <td>8</td>\n",
       "      <td>11</td>\n",
       "    </tr>\n",
       "    <tr>\n",
       "      <th>...</th>\n",
       "      <td>...</td>\n",
       "      <td>...</td>\n",
       "    </tr>\n",
       "    <tr>\n",
       "      <th>2405</th>\n",
       "      <td>388</td>\n",
       "      <td>2913</td>\n",
       "    </tr>\n",
       "    <tr>\n",
       "      <th>7546</th>\n",
       "      <td>219</td>\n",
       "      <td>2914</td>\n",
       "    </tr>\n",
       "    <tr>\n",
       "      <th>5603</th>\n",
       "      <td>351</td>\n",
       "      <td>3095</td>\n",
       "    </tr>\n",
       "    <tr>\n",
       "      <th>4824</th>\n",
       "      <td>680</td>\n",
       "      <td>3143</td>\n",
       "    </tr>\n",
       "    <tr>\n",
       "      <th>7179</th>\n",
       "      <td>205</td>\n",
       "      <td>3679</td>\n",
       "    </tr>\n",
       "  </tbody>\n",
       "</table>\n",
       "<p>8069 rows × 2 columns</p>\n",
       "</div>"
      ],
      "text/plain": [
       "      UniqueWordCount  WordCount\n",
       "2476                6          8\n",
       "3024                7          9\n",
       "3191               10         10\n",
       "5464                8         10\n",
       "3299                8         11\n",
       "...               ...        ...\n",
       "2405              388       2913\n",
       "7546              219       2914\n",
       "5603              351       3095\n",
       "4824              680       3143\n",
       "7179              205       3679\n",
       "\n",
       "[8069 rows x 2 columns]"
      ]
     },
     "metadata": {},
     "output_type": "display_data"
    }
   ],
   "source": [
    "%%time\n",
    "\n",
    "# Affichage des fréquences\n",
    "dfPlot = df.sort_values(by=\"WordCount\")[['UniqueWordCount', 'WordCount']]\n",
    "display(dfPlot)\n",
    "dfPlot.plot(kind='bar', title='Top 50 post par nombre de mots', stacked=True, ylim=(0, 1500))\n",
    "plt.tick_params(\n",
    "    axis='x',          # changes apply to the x-axis\n",
    "    which='both',      # both major and minor ticks are affected\n",
    "    bottom=False,      # ticks along the bottom edge are off\n",
    "    top=False,         # ticks along the top edge are off\n",
    "    labelbottom=False) # labels along the bottom edge are off\n",
    "plt.show()"
   ]
  },
  {
   "cell_type": "code",
   "execution_count": null,
   "id": "45477eb1",
   "metadata": {},
   "outputs": [],
   "source": [
    "def var_desc(feat, df, text=False, hist=False, boxplot=False, bpShowFliers=False):\n",
    "    if text:\n",
    "        print(\"Description basique de\", feat)\n",
    "        print(\"  min max\", df[feat].min(), df[feat].max())\n",
    "        # print(\"val_counts\",df[feat].value_counts())\n",
    "        print(\"  moyenne\", round(df[feat].mean(), 3))\n",
    "        print(\"  medianne\", df[feat].median())\n",
    "        # truc moche pour eviter d'avoir le type de la serie renvoyée par mode()\n",
    "        modes = df[feat].mode()\n",
    "        print(\"  mode \", end='')\n",
    "        for m in modes:\n",
    "            print(m, end=' ')\n",
    "        print(\" \")\n",
    "        print(\"  variance empirique\", round(df[feat].var(ddof=0), 3))\n",
    "        print(\"  ecart-type\", round(df[feat].std(ddof=0), 3))\n",
    "    if hist:\n",
    "        df[feat].hist(figsize=(8, 6), bins=100, legend=True)\n",
    "        plt.show()\n",
    "    if boxplot:\n",
    "        medianprops = {'color': \"black\"}\n",
    "        meanprops = {'marker': 'o', 'markeredgecolor': 'black', 'markerfacecolor': 'firebrick'}\n",
    "        fig1, ax1 = plt.subplots(figsize=(4, 3), dpi=80)\n",
    "        ax1.set_title(feat)\n",
    "        ax1.boxplot(df[feat].dropna(), vert=False, showfliers=bpShowFliers, medianprops=medianprops,\n",
    "                    patch_artist=True, showmeans=True, meanprops=meanprops)\n",
    "        plt.show()"
   ]
  },
  {
   "cell_type": "code",
   "execution_count": null,
   "id": "c3504661",
   "metadata": {},
   "outputs": [],
   "source": [
    "var_desc('WordCount', df, text=True, boxplot=True, bpShowFliers=False)\n",
    "var_desc('WordCount', df, text=False, boxplot=True, bpShowFliers=True)"
   ]
  },
  {
   "cell_type": "code",
   "execution_count": null,
   "id": "90ddc512",
   "metadata": {},
   "outputs": [],
   "source": [
    "var_desc('UniqueWordCount', df, text=True, boxplot=True, bpShowFliers=False)\n",
    "var_desc('UniqueWordCount', df, text=False, boxplot=True, bpShowFliers=True)"
   ]
  },
  {
   "cell_type": "code",
   "execution_count": null,
   "id": "6d6eba3b",
   "metadata": {},
   "outputs": [],
   "source": [
    "dfPlot.plot('WordCount', 'UniqueWordCount')\n",
    "plt.show()"
   ]
  },
  {
   "cell_type": "code",
   "execution_count": null,
   "id": "c797c32b",
   "metadata": {},
   "outputs": [],
   "source": [
    "# Import the wordcloud library\n",
    "from wordcloud import WordCloud\n",
    "# Join the different processed titles together.\n",
    "long_string = ','.join(list(df['Text'].values))\n",
    "# Create a WordCloud object\n",
    "wordcloud = WordCloud(background_color=\"white\", max_words=5000, contour_width=3, contour_color='steelblue', width=800, height=400)\n",
    "# Generate a word cloud\n",
    "wordcloud.generate(long_string)\n",
    "# Visualize the word cloud\n",
    "wordcloud.to_image()"
   ]
  },
  {
   "cell_type": "markdown",
   "id": "8e2380e2",
   "metadata": {},
   "source": [
    "## Tf-Idf pour KMeans"
   ]
  },
  {
   "cell_type": "code",
   "execution_count": null,
   "id": "e7acc155",
   "metadata": {},
   "outputs": [],
   "source": [
    "from sklearn.feature_extraction.text import TfidfVectorizer\n",
    "# from sklearn.feature_extraction.text import HashingVectorizer\n",
    "from sklearn.feature_extraction.text import TfidfTransformer\n",
    "from sklearn.pipeline import make_pipeline\n",
    "from sklearn.preprocessing import Normalizer\n",
    "from sklearn import metrics\n",
    "\n",
    "from sklearn.cluster import KMeans, MiniBatchKMeans\n",
    "\n",
    "vectorizer = TfidfVectorizer(\n",
    "    max_df=0.5,\n",
    "    # max_features=opts.n_features,\n",
    "    min_df=2,\n",
    "    stop_words=\"english\",\n",
    "    use_idf=True,\n",
    ")"
   ]
  },
  {
   "cell_type": "code",
   "execution_count": null,
   "id": "4f23cc29",
   "metadata": {},
   "outputs": [],
   "source": [
    "%%time\n",
    "\n",
    "X = vectorizer.fit_transform(df['Text'])"
   ]
  },
  {
   "cell_type": "code",
   "execution_count": null,
   "id": "323c3598",
   "metadata": {},
   "outputs": [],
   "source": [
    "print(\"n_samples: %d, n_features: %d\" % X.shape)\n"
   ]
  },
  {
   "cell_type": "code",
   "execution_count": null,
   "id": "7370a29c",
   "metadata": {},
   "outputs": [],
   "source": [
    "%%time\n",
    "\n",
    "# Elbow method \n",
    "# --------------- /!\\ c'est tres long selon la plage choisie /!\\ ---------------\n",
    "import seaborn as sns\n",
    "\n",
    "if False:\n",
    "    sse = {}\n",
    "    for k in range(10, 400, 50):\n",
    "        print(k, end=\" \")\n",
    "        kmeans = KMeans(n_clusters=k, random_state=42)\n",
    "        kmeans.fit(X)\n",
    "        sse[k] = kmeans.inertia_  # SSE to closest cluster centroid\n",
    "    plt.title('The Elbow Method')\n",
    "    plt.xlabel('k')\n",
    "    plt.ylabel('SSE')\n",
    "    sns.pointplot(x=list(sse.keys()), y=list(sse.values()))\n",
    "    plt.show()"
   ]
  },
  {
   "cell_type": "code",
   "execution_count": null,
   "id": "af41a58f",
   "metadata": {},
   "outputs": [],
   "source": [
    "# on choisi 40 clusters d'apres elbow\n",
    "nk = 40"
   ]
  },
  {
   "cell_type": "code",
   "execution_count": null,
   "id": "2c073b01",
   "metadata": {},
   "outputs": [],
   "source": [
    "%%time\n",
    "\n",
    "km = KMeans(\n",
    "    n_clusters=nk,\n",
    "    init=\"k-means++\",\n",
    "    max_iter=100,\n",
    "    n_init=1\n",
    ")\n",
    "print(\"Clustering sparse data with %s\" % km)\n",
    "km.fit(X)"
   ]
  },
  {
   "cell_type": "code",
   "execution_count": null,
   "id": "bad1acce",
   "metadata": {},
   "outputs": [],
   "source": [
    "%%time\n",
    "\n",
    "print(\"Silhouette Coefficient: %0.3f\" % metrics.silhouette_score(X, km.labels_, sample_size=1000))"
   ]
  },
  {
   "cell_type": "code",
   "execution_count": null,
   "id": "5f7e7dcc",
   "metadata": {},
   "outputs": [],
   "source": [
    "order_centroids = km.cluster_centers_.argsort()[:, ::-1]\n",
    "terms = vectorizer.get_feature_names_out()\n",
    "for i in range(nk):\n",
    "    print(\"Topic %d:\" % i, end=\"\")\n",
    "    for ind in order_centroids[i, :10]:\n",
    "        print(\" %s\" % terms[ind], end=\"\")\n",
    "    print()\n"
   ]
  },
  {
   "cell_type": "raw",
   "id": "f7c750c7",
   "metadata": {},
   "source": [
    "%%time\n",
    "\n",
    "from sklearn.decomposition import NMF\n",
    "\n",
    "nmf = NMF(n_components=nk, random_state=1, alpha=.1, l1_ratio=.5, init='nndsvd')\n",
    "nmf.fit(X)\n",
    "print(\"Clustering sparse data with %s\" % nmf)"
   ]
  },
  {
   "cell_type": "raw",
   "id": "47ecbc25",
   "metadata": {},
   "source": [
    "%%time\n",
    "\n",
    "# le transform donne un score pour chaque topic, on considère que le topic choisi est celui de meilleur score (argmax)\n",
    "X_clustered = nmf.transform(X)\n",
    "clustering = [np.argmax(c) for c in X_clustered]\n",
    "print(\"Silhouette Coefficient: %0.3f\" % metrics.silhouette_score(X, clustering, sample_size=1000))"
   ]
  },
  {
   "cell_type": "raw",
   "id": "6d1f7c8e",
   "metadata": {},
   "source": [
    "def display_topics(model, feature_names, no_top_words):\n",
    "    for topic_idx, topic in enumerate(model.components_):\n",
    "        print(\"Topic {}: \".format(topic_idx), end=\"\")\n",
    "        print(\" \".join([feature_names[i] for i in topic.argsort()[:-no_top_words - 1:-1]]))\n",
    "\n",
    "\n",
    "display_topics(nmf, terms, 10)"
   ]
  },
  {
   "cell_type": "raw",
   "id": "19285eac",
   "metadata": {},
   "source": [
    "def plot_top_words(model, feature_names, n_top_words, title):\n",
    "    fig, axes = plt.subplots(10, 4, figsize=(20, 20), sharex=True)\n",
    "    axes = axes.flatten()\n",
    "    for topic_idx, topic in enumerate(model.components_):\n",
    "        top_features_ind = topic.argsort()[: -n_top_words - 1: -1]\n",
    "        top_features = [feature_names[i] for i in top_features_ind]\n",
    "        weights = topic[top_features_ind]\n",
    "\n",
    "        ax = axes[topic_idx]\n",
    "        ax.barh(top_features, weights, height=0.7)\n",
    "        ax.set_title(f\"Topic {topic_idx +1}\", fontdict={\"fontsize\": 20})\n",
    "        ax.invert_yaxis()\n",
    "        ax.tick_params(axis=\"both\", which=\"major\", labelsize=12)\n",
    "        for i in \"top right left\".split():\n",
    "            ax.spines[i].set_visible(False)\n",
    "        fig.suptitle(title)\n",
    "\n",
    "    plt.subplots_adjust(top=0.90, bottom=0.05, wspace=0.4, hspace=0.3)\n",
    "    plt.show()"
   ]
  },
  {
   "cell_type": "raw",
   "id": "253742fc",
   "metadata": {},
   "source": [
    "plot_top_words(nmf, terms, 5, \"Topics in NMF model\")"
   ]
  },
  {
   "cell_type": "markdown",
   "id": "369d6990",
   "metadata": {},
   "source": [
    "## bag-of-word with LDA"
   ]
  },
  {
   "cell_type": "code",
   "execution_count": null,
   "id": "bd53479b",
   "metadata": {},
   "outputs": [],
   "source": [
    "%%time\n",
    "\n",
    "from gensim.corpora.dictionary import Dictionary\n",
    "from gensim import models\n",
    "\n",
    "# Create a corpus from a list of texts\n",
    "g_text = df['Text_tok'].to_list()\n",
    "dictionary = Dictionary(g_text)\n",
    "bow_corpus = [dictionary.doc2bow(text) for text in g_text]"
   ]
  },
  {
   "cell_type": "code",
   "execution_count": null,
   "id": "dc99dd08",
   "metadata": {},
   "outputs": [],
   "source": [
    "'''\n",
    "Checking dictionary created\n",
    "'''\n",
    "count = 0\n",
    "for k, v in dictionary.iteritems():\n",
    "    print(k, v)\n",
    "    count += 1\n",
    "    if count > 10:\n",
    "        break"
   ]
  },
  {
   "cell_type": "code",
   "execution_count": null,
   "id": "2a2d93de",
   "metadata": {},
   "outputs": [],
   "source": [
    "len(dictionary)"
   ]
  },
  {
   "cell_type": "code",
   "execution_count": null,
   "id": "facf15cf",
   "metadata": {},
   "outputs": [],
   "source": [
    "%%time\n",
    "\n",
    "# Train the model on the corpus.\n",
    "lda = models.LdaModel(bow_corpus, num_topics=10, id2word = dictionary)"
   ]
  },
  {
   "cell_type": "code",
   "execution_count": null,
   "id": "72820cf3",
   "metadata": {},
   "outputs": [],
   "source": [
    "lda.get_topics().shape"
   ]
  },
  {
   "cell_type": "code",
   "execution_count": null,
   "id": "f0967965",
   "metadata": {},
   "outputs": [],
   "source": [
    "'''\n",
    "For each topic, we will explore the words occuring in that topic and its relative weight\n",
    "'''\n",
    "for idx, topic in lda.print_topics(-1):\n",
    "    print(\"Topic: {} \\nWords: {}\".format(idx, topic))\n",
    "    print(\"\\n\")\n"
   ]
  },
  {
   "cell_type": "code",
   "execution_count": null,
   "id": "8d0ca263",
   "metadata": {},
   "outputs": [],
   "source": [
    "import pyLDAvis as pyLDAv\n",
    "import pyLDAvis.gensim_models as gensimvis\n",
    "\n",
    "pyLDAv.enable_notebook()\n",
    "gensimvis.prepare(lda, bow_corpus, dictionary)"
   ]
  },
  {
   "cell_type": "code",
   "execution_count": null,
   "id": "ce15b497",
   "metadata": {},
   "outputs": [],
   "source": [
    "from gensim.models import CoherenceModel\n",
    "\n",
    "# Compute Perplexity\n",
    "print('\\nPerplexity: ', lda.log_perplexity(bow_corpus))  # a measure of how good the model is. lower the better.\n",
    "\n",
    "# Compute Coherence Score\n",
    "coherence_model_lda = CoherenceModel(model=lda, texts=g_text, dictionary=dictionary, coherence='c_v')\n",
    "coherence_lda = coherence_model_lda.get_coherence()\n",
    "print('\\nCoherence Score: ', coherence_lda)"
   ]
  },
  {
   "cell_type": "markdown",
   "id": "6a1ef12b",
   "metadata": {},
   "source": [
    "#### Avec Mallet's  LDA"
   ]
  },
  {
   "cell_type": "code",
   "execution_count": null,
   "id": "346dbe79",
   "metadata": {},
   "outputs": [],
   "source": [
    "import os\n",
    "from gensim.models.wrappers import LdaMallet\n",
    "os.environ.update({'MALLET_HOME': r'C:\\Users\\beb4e\\Documents\\OpenClassrooms\\P5\\mallet-2.0.8\\mallet-2.0.8'})\n",
    "# You should update this path as per the path of Mallet directory on your system.\n",
    "mallet_path = r'C:\\Users\\beb4e\\Documents\\OpenClassrooms\\P5\\mallet-2.0.8\\mallet-2.0.8\\bin\\mallet'\n",
    "# You should update this path as per the path of Mallet directory on your system."
   ]
  },
  {
   "cell_type": "code",
   "execution_count": null,
   "id": "b028dbb6",
   "metadata": {},
   "outputs": [],
   "source": [
    "%%time\n",
    "\n",
    "mallet_lda = models.wrappers.LdaMallet(mallet_path, corpus=bow_corpus, num_topics=10, id2word=dictionary)"
   ]
  },
  {
   "cell_type": "code",
   "execution_count": null,
   "id": "7dab02e6",
   "metadata": {},
   "outputs": [],
   "source": [
    "# on converti le modele Mallet's LDA en LDA, pour l'affichage: pyLDAvis n'aime pas les modeles Mallet...\n",
    "mallet_lda_backTo_lda = models.wrappers.ldamallet.malletmodel2ldamodel(mallet_lda)\n",
    "gensimvis.prepare(mallet_lda_backTo_lda, bow_corpus, dictionary)"
   ]
  },
  {
   "cell_type": "code",
   "execution_count": null,
   "id": "ff42d3aa",
   "metadata": {},
   "outputs": [],
   "source": [
    "# Compute Perplexity\n",
    "# erreur avec Mallet, tant pis pour cette mesure\n",
    "\n",
    "# Compute Coherence Score\n",
    "coherence_model_mallet_lda = CoherenceModel(model=mallet_lda, texts=g_text, dictionary=dictionary, coherence='c_v')\n",
    "coherence_mallet_lda = coherence_model_mallet_lda.get_coherence()\n",
    "print('\\nCoherence Score: ', coherence_mallet_lda)"
   ]
  },
  {
   "cell_type": "markdown",
   "id": "4d1a1cb5",
   "metadata": {},
   "source": [
    "### recherche du nombre de topic optimal"
   ]
  },
  {
   "cell_type": "code",
   "execution_count": null,
   "id": "0e7b6436",
   "metadata": {},
   "outputs": [],
   "source": [
    "def coherencePlot(coherence_values, start, limit, step):\n",
    "    x = range(start, limit, step)\n",
    "    plt.plot(x, coherence_values)\n",
    "    plt.xlabel(\"Num Topics\")\n",
    "    plt.ylabel(\"Coherence score\")\n",
    "    plt.legend([\"coherence_values\"], loc='best')\n",
    "    plt.show()"
   ]
  },
  {
   "cell_type": "code",
   "execution_count": null,
   "id": "d2b6807b",
   "metadata": {},
   "outputs": [],
   "source": [
    "def compute_coherence_values(dictionary, corpus, texts, with_mallet, limit, start=2, step=3, random_state=42):\n",
    "    \"\"\"\n",
    "    Compute c_v coherence for various number of topics\n",
    "\n",
    "    Parameters:\n",
    "    ----------\n",
    "    dictionary : Gensim dictionary\n",
    "    corpus : Gensim corpus\n",
    "    texts : List of input texts\n",
    "    limit : Max num of topics\n",
    "\n",
    "    Returns:\n",
    "    -------\n",
    "    model_list : List of LDA topic models\n",
    "    coherence_values : Coherence values corresponding to the LDA model with respective number of topics\n",
    "    \"\"\"\n",
    "    coherence_values = []\n",
    "    model_list = []\n",
    "    for num_topics in range(start, limit, step):\n",
    "        if with_mallet:\n",
    "            model = models.wrappers.LdaMallet(mallet_path, corpus=corpus, num_topics=num_topics, id2word=dictionary,\n",
    "                                              random_seed=random_state)\n",
    "        else:\n",
    "            model = models.LdaModel(corpus, num_topics=num_topics, id2word=dictionary, random_state=random_state)\n",
    "        model_list.append(model)\n",
    "        coherencemodel = CoherenceModel(model=model, texts=texts, dictionary=dictionary, coherence='c_v')\n",
    "        coherence_values.append(coherencemodel.get_coherence())\n",
    "\n",
    "    return model_list, coherence_values"
   ]
  },
  {
   "cell_type": "code",
   "execution_count": null,
   "id": "7ef4bacb",
   "metadata": {},
   "outputs": [],
   "source": [
    "%%time\n",
    "\n",
    "model_list, coherence_values = compute_coherence_values(dictionary=dictionary, corpus=bow_corpus, texts=g_text,\n",
    "                                                        with_mallet=False,\n",
    "                                                        start=2, limit=40, step=6)"
   ]
  },
  {
   "cell_type": "code",
   "execution_count": null,
   "id": "32c9c934",
   "metadata": {
    "scrolled": true
   },
   "outputs": [],
   "source": [
    "# Show graph\n",
    "coherencePlot(coherence_values, 2, 40, 6)"
   ]
  },
  {
   "cell_type": "code",
   "execution_count": null,
   "id": "0ca8eac0",
   "metadata": {},
   "outputs": [],
   "source": [
    "%%time\n",
    "\n",
    "model_list, coherence_values = compute_coherence_values(dictionary=dictionary, corpus=bow_corpus, texts=g_text,\n",
    "                                                        with_mallet=True,\n",
    "                                                        start=2, limit=40, step=6)"
   ]
  },
  {
   "cell_type": "code",
   "execution_count": null,
   "id": "9706fcea",
   "metadata": {},
   "outputs": [],
   "source": [
    "# Show graph\n",
    "coherencePlot(coherence_values, 2, 40, 6)"
   ]
  },
  {
   "cell_type": "code",
   "execution_count": null,
   "id": "5dcdd065",
   "metadata": {},
   "outputs": [],
   "source": [
    "%%time\n",
    "\n",
    "# vu les resultats précedents, on affine la recherche \n",
    "limit = 25\n",
    "start = 5\n",
    "step = 1\n",
    "\n",
    "\n",
    "print(\"----------- LDA -------------\")\n",
    "model_list_lda, coherence_values_lda = compute_coherence_values(dictionary=dictionary, corpus=bow_corpus, texts=g_text,\n",
    "                                                        with_mallet=False,\n",
    "                                                        start=start, limit=limit, step=step)\n",
    "coherencePlot(coherence_values_lda, start, limit, step)\n",
    "\n",
    "\n",
    "print(\"----------- Mallet LDA ------\")\n",
    "model_list_mlda, coherence_values_mlda = compute_coherence_values(dictionary=dictionary, corpus=bow_corpus, texts=g_text,\n",
    "                                                        with_mallet=True,\n",
    "                                                        start=start, limit=limit, step=step)\n",
    "coherencePlot(coherence_values_mlda, start, limit, step)"
   ]
  },
  {
   "cell_type": "code",
   "execution_count": null,
   "id": "04c6eeb6",
   "metadata": {},
   "outputs": [],
   "source": [
    "# selection du meilleur modele\n",
    "print(\"Modele: \", end=\"\")\n",
    "max_lda = max(coherence_values_lda)\n",
    "max_mlda = max(coherence_values_mlda)\n",
    "if(max_lda > max_mlda):\n",
    "    idx = coherence_values_lda.index(max_lda)\n",
    "    optimal_model = model_list_lda[idx]\n",
    "    print(\"LDA (%f)\" % max_lda)\n",
    "else:\n",
    "    idx = coherence_values_mlda.index(max_mlda)\n",
    "    optimal_model = model_list_mlda[idx]\n",
    "    print(\"Mallet LDA (%f)\" % max_mlda)\n",
    "\n",
    "n_topic = idx+start\n",
    "print(\"Nombre de topics:\", n_topic)"
   ]
  },
  {
   "cell_type": "code",
   "execution_count": null,
   "id": "85f90832",
   "metadata": {},
   "outputs": [],
   "source": [
    "\n",
    "mallet_lda_backTo_lda = models.wrappers.ldamallet.malletmodel2ldamodel(optimal_model)\n",
    "gensimvis.prepare(mallet_lda_backTo_lda, bow_corpus, dictionary)"
   ]
  },
  {
   "cell_type": "markdown",
   "id": "5831ff5e",
   "metadata": {},
   "source": [
    "## Finding the dominant topic in each sentence\n",
    "\n",
    "Le 'Taggage' a proprement parler, meme si on a pas de 'tag' pour le moment, juste une liste de mots clés"
   ]
  },
  {
   "cell_type": "code",
   "execution_count": null,
   "id": "ac6db18e",
   "metadata": {},
   "outputs": [],
   "source": [
    "def format_topics_sentences(ldamodel, corpus, texts):\n",
    "    # Init output\n",
    "    sent_topics_df = pd.DataFrame()\n",
    "\n",
    "    # Get main topic in each document\n",
    "    for i, row in enumerate(ldamodel[corpus]):\n",
    "        row = sorted(row, key=lambda x: (x[1]), reverse=True)\n",
    "        # Get the Dominant topic, Perc Contribution and Keywords for each document\n",
    "        for j, (topic_num, prop_topic) in enumerate(row):\n",
    "            if j == 0:  # => dominant topic\n",
    "                wp = ldamodel.show_topic(topic_num)\n",
    "                topic_keywords = \", \".join([word for word, prop in wp])\n",
    "                sent_topics_df = sent_topics_df.append(pd.Series([int(topic_num), round(prop_topic, 4), topic_keywords]),\n",
    "                                                       ignore_index=True)\n",
    "            else:\n",
    "                break\n",
    "    sent_topics_df.columns = ['Dominant_Topic', 'Perc_Contribution', 'Topic_Keywords']\n",
    "\n",
    "    # Add original text to the end of the output\n",
    "    contents = pd.Series(texts)\n",
    "    sent_topics_df = pd.concat([sent_topics_df, contents], axis=1)\n",
    "    return(sent_topics_df)\n",
    "\n",
    "\n",
    "df_topic_sents_keywords = format_topics_sentences(ldamodel=optimal_model, corpus=bow_corpus, texts=g_text)\n",
    "\n",
    "# Format\n",
    "df_dominant_topic = df_topic_sents_keywords.reset_index()\n",
    "df_dominant_topic.columns = ['Document_No', 'Dominant_Topic', 'Topic_Perc_Contrib', 'Keywords', 'Text']\n",
    "\n",
    "# Show\n",
    "df_dominant_topic"
   ]
  },
  {
   "cell_type": "markdown",
   "id": "7c928947",
   "metadata": {},
   "source": [
    "## Find the most representative document for each topic\n",
    "\n",
    "TODO: selectionner les X premiers mots clés et/ou dont poids supérieur à un seuil\n",
    "\n",
    "      remettre ca avec le vrai doc original, plus lisible, pour en extraire le (ou les) tag pertinent\n"
   ]
  },
  {
   "cell_type": "code",
   "execution_count": null,
   "id": "c4a72b16",
   "metadata": {},
   "outputs": [],
   "source": [
    "# on charge l'original, car on se sert de la version lisible pour creer des tags pertinents\n",
    "df_orig = pd.read_csv(\"Questions.csv\")\n",
    "df_orig"
   ]
  },
  {
   "cell_type": "code",
   "execution_count": null,
   "id": "7a014779",
   "metadata": {},
   "outputs": [],
   "source": [
    "df_topic_sents_keywords_readable = pd.concat([df_orig, df_topic_sents_keywords], axis=1)\n",
    "df_topic_sents_keywords_readable"
   ]
  },
  {
   "cell_type": "code",
   "execution_count": null,
   "id": "6e06cee3",
   "metadata": {},
   "outputs": [],
   "source": [
    "# Group Top X sentences under each topic\n",
    "num_TopSentence = 2\n",
    "\n",
    "sent_topics_sorteddf_mallet = pd.DataFrame()\n",
    "\n",
    "sent_topics_outdf_grpd = df_topic_sents_keywords.groupby('Dominant_Topic')\n",
    "\n",
    "for i, grp in sent_topics_outdf_grpd:\n",
    "    sent_topics_sorteddf_mallet = pd.concat([sent_topics_sorteddf_mallet,\n",
    "                                             grp.sort_values(['Perc_Contribution'], ascending=[0]).head(num_TopSentence)],\n",
    "                                            axis=0)\n",
    "\n",
    "# Reset Index\n",
    "sent_topics_sorteddf_mallet.reset_index(drop=True, inplace=True)\n",
    "\n",
    "# Format\n",
    "sent_topics_sorteddf_mallet.columns = ['Topic_Num', \"Topic_Perc_Contrib\", \"Keywords\", \"Text\"]\n",
    "\n",
    "# Show\n",
    "sent_topics_sorteddf_mallet"
   ]
  },
  {
   "cell_type": "code",
   "execution_count": null,
   "id": "badd5d42",
   "metadata": {},
   "outputs": [],
   "source": [
    "# Group Top X sentences under each topic, version lisible\n",
    "def readableBestNQuestions(n=1):\n",
    "    num_TopSentence = n\n",
    "\n",
    "    sent_topics_sorteddf_mallet = pd.DataFrame()\n",
    "\n",
    "    sent_topics_outdf_grpd = df_topic_sents_keywords_readable.groupby('Dominant_Topic')\n",
    "\n",
    "    for i, grp in sent_topics_outdf_grpd:\n",
    "        sent_topics_sorteddf_mallet = pd.concat([sent_topics_sorteddf_mallet,\n",
    "                                                 grp.sort_values(['Perc_Contribution'], ascending=[0]).head(num_TopSentence)],\n",
    "                                                axis=0)\n",
    "\n",
    "    # Reset Index\n",
    "    sent_topics_sorteddf_mallet.reset_index(drop=True, inplace=True)\n",
    "\n",
    "    # Format\n",
    "    sent_topics_sorteddf_mallet.columns = ['Id', 'Title', 'Body', 'ExistingTags',\n",
    "                                           'Topic_Num', \"Topic_Perc_Contrib\", \"Keywords\", \"Text\"]\n",
    "\n",
    "    # Show\n",
    "    return sent_topics_sorteddf_mallet"
   ]
  },
  {
   "cell_type": "code",
   "execution_count": null,
   "id": "8a2a16bf",
   "metadata": {},
   "outputs": [],
   "source": [
    "def printBold(text):\n",
    "    print('\\033[1m{:10s}\\033[0m'.format(text))"
   ]
  },
  {
   "cell_type": "code",
   "execution_count": null,
   "id": "ea2b0561",
   "metadata": {
    "scrolled": true
   },
   "outputs": [],
   "source": [
    "from IPython.display import display, HTML\n",
    "from bs4 import BeautifulSoup\n",
    "\n",
    "\n",
    "def showReadableDesc(topic, n, showBody=True, showHtml=False):\n",
    "    # Get Top n sentences for topic\n",
    "    readable = readableBestNQuestions(n)\n",
    "    res = readable[readable['Topic_Num'] == topic]\n",
    "\n",
    "    for i in range(0, n):\n",
    "        printBold(\"Topic \"+str(topic)+\" exemple \"+str(i+1)+\"/\"+str(n))\n",
    "        print(\"Keywords:\", res['Keywords'].iloc[0])\n",
    "        print(\"  Id:\", res['Id'].iloc[i], \"Contrib:\", res['Topic_Perc_Contrib'].iloc[i])\n",
    "        print(\"  StackOverflow Tags:\", res['ExistingTags'].iloc[i])\n",
    "        print(\"  Titre:\", res['Title'].iloc[i])\n",
    "        printBold(\"**********************************************************************\")\n",
    "        if showBody and showHtml:\n",
    "            display(HTML(res['Body'].iloc[i]))\n",
    "        elif showBody:\n",
    "            print(BeautifulSoup(res['Body'].iloc[i], 'html.parser').get_text())\n",
    "\n",
    "\n",
    "showReadableDesc(1, 2, showBody=False)"
   ]
  },
  {
   "cell_type": "code",
   "execution_count": null,
   "id": "6c3e3f06",
   "metadata": {
    "scrolled": true
   },
   "outputs": [],
   "source": [
    "for i in range(0, n_topic):\n",
    "    showReadableDesc(i, 3, showBody=False)"
   ]
  },
  {
   "cell_type": "markdown",
   "id": "2ce006a0",
   "metadata": {},
   "source": [
    "## Topic distribution across documents"
   ]
  },
  {
   "cell_type": "code",
   "execution_count": null,
   "id": "7000004e",
   "metadata": {},
   "outputs": [],
   "source": [
    "# Number of Documents for Each Topic\n",
    "topic_counts = df_topic_sents_keywords['Dominant_Topic'].value_counts()\n",
    "\n",
    "# Percentage of Documents for Each Topic\n",
    "topic_contribution = round(topic_counts/topic_counts.sum(), 4)\n",
    "\n",
    "# Topic Number and Keywords\n",
    "topic_num_keywords = df_topic_sents_keywords[['Dominant_Topic', 'Topic_Keywords']]\n",
    "\n",
    "# /!\\ modif perso parce que y'a un bug dans le truc...\n",
    "topic_num_keywords = topic_num_keywords.drop_duplicates(subset=['Dominant_Topic']).reset_index(drop=True)\n",
    "\n",
    "# Concatenate Column wise\n",
    "df_dominant_topics = pd.concat([topic_num_keywords, topic_counts, topic_contribution], axis=1)\n",
    "\n",
    "# Change Column names\n",
    "df_dominant_topics.columns = ['Dominant_Topic', 'Topic_Keywords', 'Num_Documents', 'Perc_Documents']\n",
    "\n",
    "df_dominant_topics = df_dominant_topics.set_index('Dominant_Topic')\n",
    "\n",
    "\n",
    "# Show\n",
    "df_dominant_topics.sort_values(['Perc_Documents'], ascending=[0])"
   ]
  },
  {
   "cell_type": "code",
   "execution_count": null,
   "id": "31a9044a",
   "metadata": {},
   "outputs": [],
   "source": []
  }
 ],
 "metadata": {
  "celltoolbar": "Format de la Cellule Texte Brut",
  "kernelspec": {
   "display_name": "Python 3 (ipykernel)",
   "language": "python",
   "name": "python3"
  },
  "language_info": {
   "codemirror_mode": {
    "name": "ipython",
    "version": 3
   },
   "file_extension": ".py",
   "mimetype": "text/x-python",
   "name": "python",
   "nbconvert_exporter": "python",
   "pygments_lexer": "ipython3",
   "version": "3.9.7"
  }
 },
 "nbformat": 4,
 "nbformat_minor": 5
}
