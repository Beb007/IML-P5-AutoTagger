{
 "cells": [
  {
   "cell_type": "code",
   "execution_count": 1,
   "id": "b388eb34",
   "metadata": {},
   "outputs": [],
   "source": [
    "import time as time\n",
    "import pandas as pd\n",
    "import numpy as np\n",
    "import matplotlib.pyplot as plt\n",
    "import re\n",
    "from bs4 import BeautifulSoup\n",
    "import nltk\n",
    "from nltk.tokenize import ToktokTokenizer\n",
    "from nltk.stem.wordnet import WordNetLemmatizer\n",
    "from nltk.stem import PorterStemmer\n",
    "from nltk.corpus import wordnet\n",
    "from nltk.corpus import stopwords\n",
    "from nltk.tag.util import untag"
   ]
  },
  {
   "cell_type": "code",
   "execution_count": 2,
   "id": "eb7cac79",
   "metadata": {},
   "outputs": [
    {
     "name": "stderr",
     "output_type": "stream",
     "text": [
      "[nltk_data] Downloading package punkt to\n",
      "[nltk_data]     C:\\Users\\beb4e\\AppData\\Roaming\\nltk_data...\n",
      "[nltk_data]   Package punkt is already up-to-date!\n",
      "[nltk_data] Downloading package averaged_perceptron_tagger to\n",
      "[nltk_data]     C:\\Users\\beb4e\\AppData\\Roaming\\nltk_data...\n",
      "[nltk_data]   Package averaged_perceptron_tagger is already up-to-\n",
      "[nltk_data]       date!\n",
      "[nltk_data] Downloading package wordnet to\n",
      "[nltk_data]     C:\\Users\\beb4e\\AppData\\Roaming\\nltk_data...\n",
      "[nltk_data]   Package wordnet is already up-to-date!\n",
      "[nltk_data] Downloading package stopwords to\n",
      "[nltk_data]     C:\\Users\\beb4e\\AppData\\Roaming\\nltk_data...\n",
      "[nltk_data]   Package stopwords is already up-to-date!\n"
     ]
    },
    {
     "data": {
      "text/plain": [
       "True"
      ]
     },
     "execution_count": 2,
     "metadata": {},
     "output_type": "execute_result"
    }
   ],
   "source": [
    "# ressources necessaires\n",
    "nltk.download('punkt')\n",
    "nltk.download('averaged_perceptron_tagger')\n",
    "nltk.download('wordnet')\n",
    "nltk.download('stopwords')"
   ]
  },
  {
   "cell_type": "markdown",
   "id": "5f978f54",
   "metadata": {},
   "source": [
    "#### fonctions utilitaires génériques, parametrages affichage"
   ]
  },
  {
   "cell_type": "code",
   "execution_count": 3,
   "id": "0a598ab0",
   "metadata": {},
   "outputs": [],
   "source": [
    "pd.set_option('display.max_columns', None)"
   ]
  },
  {
   "cell_type": "code",
   "execution_count": 4,
   "id": "648b5dc4",
   "metadata": {},
   "outputs": [
    {
     "data": {
      "text/html": [
       "<div>\n",
       "<style scoped>\n",
       "    .dataframe tbody tr th:only-of-type {\n",
       "        vertical-align: middle;\n",
       "    }\n",
       "\n",
       "    .dataframe tbody tr th {\n",
       "        vertical-align: top;\n",
       "    }\n",
       "\n",
       "    .dataframe thead th {\n",
       "        text-align: right;\n",
       "    }\n",
       "</style>\n",
       "<table border=\"1\" class=\"dataframe\">\n",
       "  <thead>\n",
       "    <tr style=\"text-align: right;\">\n",
       "      <th></th>\n",
       "      <th>Title</th>\n",
       "      <th>Body</th>\n",
       "      <th>Tags</th>\n",
       "    </tr>\n",
       "  </thead>\n",
       "  <tbody>\n",
       "    <tr>\n",
       "      <th>0</th>\n",
       "      <td>Java 14 records and arrays</td>\n",
       "      <td>&lt;p&gt;Given the following code:&lt;/p&gt;\\n\\n&lt;pre&gt;&lt;code...</td>\n",
       "      <td>&lt;java&gt;&lt;arrays&gt;&lt;java-14&gt;&lt;java-record&gt;</td>\n",
       "    </tr>\n",
       "    <tr>\n",
       "      <th>1</th>\n",
       "      <td>Blue flickering stripes on my MBP with Chrome</td>\n",
       "      <td>&lt;p&gt;On my new Macbook Pro 16 late 2019, with Ca...</td>\n",
       "      <td>&lt;google-chrome&gt;&lt;graphics&gt;&lt;macos-catalina&gt;</td>\n",
       "    </tr>\n",
       "    <tr>\n",
       "      <th>2</th>\n",
       "      <td>How can I create a DependsOn relation between ...</td>\n",
       "      <td>&lt;p&gt;I am currently using the &lt;em&gt;aws-cdk&lt;/em&gt; (...</td>\n",
       "      <td>&lt;amazon-web-services&gt;&lt;amazon-ec2&gt;&lt;amazon-rds&gt;&lt;...</td>\n",
       "    </tr>\n",
       "    <tr>\n",
       "      <th>3</th>\n",
       "      <td>on colab - class_weight is causing a ValueErro...</td>\n",
       "      <td>&lt;p&gt;i'm running a CNN with keras sequential on ...</td>\n",
       "      <td>&lt;python&gt;&lt;tensorflow&gt;&lt;keras&gt;&lt;google-colaborator...</td>\n",
       "    </tr>\n",
       "    <tr>\n",
       "      <th>4</th>\n",
       "      <td>How to pass a custom function inside a ForEach...</td>\n",
       "      <td>&lt;p&gt;I can't find a way to pass the function. Ju...</td>\n",
       "      <td>&lt;powershell&gt;&lt;powershell-core&gt;</td>\n",
       "    </tr>\n",
       "    <tr>\n",
       "      <th>...</th>\n",
       "      <td>...</td>\n",
       "      <td>...</td>\n",
       "      <td>...</td>\n",
       "    </tr>\n",
       "    <tr>\n",
       "      <th>8064</th>\n",
       "      <td>Daemon is stopping immediately JVM garbage col...</td>\n",
       "      <td>&lt;p&gt;When I build multi module java project usin...</td>\n",
       "      <td>&lt;java&gt;&lt;gradle&gt;</td>\n",
       "    </tr>\n",
       "    <tr>\n",
       "      <th>8065</th>\n",
       "      <td>Difference between Mono/Flux.fromCallable and ...</td>\n",
       "      <td>&lt;p&gt;I usually have the requirement of generatin...</td>\n",
       "      <td>&lt;spring-webflux&gt;&lt;project-reactor&gt;</td>\n",
       "    </tr>\n",
       "    <tr>\n",
       "      <th>8066</th>\n",
       "      <td>How to compare generic structs in C++?</td>\n",
       "      <td>&lt;p&gt;I want to compare structs in a generic way ...</td>\n",
       "      <td>&lt;c++&gt;&lt;templates&gt;&lt;struct&gt;&lt;padding&gt;&lt;memcmp&gt;</td>\n",
       "    </tr>\n",
       "    <tr>\n",
       "      <th>8067</th>\n",
       "      <td>How to set up a custom HTTP error in Kubernetes</td>\n",
       "      <td>&lt;p&gt;I want to create a custom 403 error page.\\n...</td>\n",
       "      <td>&lt;kubernetes&gt;&lt;kubernetes-ingress&gt;</td>\n",
       "    </tr>\n",
       "    <tr>\n",
       "      <th>8068</th>\n",
       "      <td>Docker - Cannot build multi-platform images wi...</td>\n",
       "      <td>&lt;p&gt;I'm trying to build a multi-platform (amd64...</td>\n",
       "      <td>&lt;linux&gt;&lt;docker&gt;</td>\n",
       "    </tr>\n",
       "  </tbody>\n",
       "</table>\n",
       "<p>8069 rows × 3 columns</p>\n",
       "</div>"
      ],
      "text/plain": [
       "                                                  Title  \\\n",
       "0                            Java 14 records and arrays   \n",
       "1         Blue flickering stripes on my MBP with Chrome   \n",
       "2     How can I create a DependsOn relation between ...   \n",
       "3     on colab - class_weight is causing a ValueErro...   \n",
       "4     How to pass a custom function inside a ForEach...   \n",
       "...                                                 ...   \n",
       "8064  Daemon is stopping immediately JVM garbage col...   \n",
       "8065  Difference between Mono/Flux.fromCallable and ...   \n",
       "8066             How to compare generic structs in C++?   \n",
       "8067    How to set up a custom HTTP error in Kubernetes   \n",
       "8068  Docker - Cannot build multi-platform images wi...   \n",
       "\n",
       "                                                   Body  \\\n",
       "0     <p>Given the following code:</p>\\n\\n<pre><code...   \n",
       "1     <p>On my new Macbook Pro 16 late 2019, with Ca...   \n",
       "2     <p>I am currently using the <em>aws-cdk</em> (...   \n",
       "3     <p>i'm running a CNN with keras sequential on ...   \n",
       "4     <p>I can't find a way to pass the function. Ju...   \n",
       "...                                                 ...   \n",
       "8064  <p>When I build multi module java project usin...   \n",
       "8065  <p>I usually have the requirement of generatin...   \n",
       "8066  <p>I want to compare structs in a generic way ...   \n",
       "8067  <p>I want to create a custom 403 error page.\\n...   \n",
       "8068  <p>I'm trying to build a multi-platform (amd64...   \n",
       "\n",
       "                                                   Tags  \n",
       "0                  <java><arrays><java-14><java-record>  \n",
       "1             <google-chrome><graphics><macos-catalina>  \n",
       "2     <amazon-web-services><amazon-ec2><amazon-rds><...  \n",
       "3     <python><tensorflow><keras><google-colaborator...  \n",
       "4                         <powershell><powershell-core>  \n",
       "...                                                 ...  \n",
       "8064                                     <java><gradle>  \n",
       "8065                  <spring-webflux><project-reactor>  \n",
       "8066          <c++><templates><struct><padding><memcmp>  \n",
       "8067                   <kubernetes><kubernetes-ingress>  \n",
       "8068                                    <linux><docker>  \n",
       "\n",
       "[8069 rows x 3 columns]"
      ]
     },
     "execution_count": 4,
     "metadata": {},
     "output_type": "execute_result"
    }
   ],
   "source": [
    "df = pd.read_csv(\"Questions.csv\")\n",
    "df = df.drop(columns=\"Id\", axis=1)\n",
    "df"
   ]
  },
  {
   "cell_type": "code",
   "execution_count": 5,
   "id": "924fbdf5",
   "metadata": {},
   "outputs": [
    {
     "data": {
      "text/plain": [
       "'<p>Given the following code:</p>\\n\\n<pre><code>public static void main(String[] args) {\\n    record Foo(int[] ints){}\\n\\n    var ints = new int[]{1, 2};\\n    var foo = new Foo(ints);\\n    System.out.println(foo); // Foo[ints=[I@6433a2]\\n    System.out.println(new Foo(new int[]{1,2}).equals(new Foo(new int[]{1,2}))); // false\\n    System.out.println(new Foo(ints).equals(new Foo(ints))); //true\\n    System.out.println(foo.equals(foo)); // true\\n}\\n</code></pre>\\n\\n<p>It seems, obviously, that array\\'s <code>toString</code>, <code>equals</code> methods are used (instead of static methods, <code>Arrays::equals</code>,<code>Arrays::deepEquals</code>  or <code>Array::toString</code>).</p>\\n\\n<p>So I guess Java 14 Records (<a href=\"https://openjdk.java.net/jeps/359\" rel=\"noreferrer\">JEP 359</a>) don\\'t work too well with arrays, the respective methods have to be generated with an IDE (which at least in IntelliJ, by default generates \"useful\" methods, i.e. they use the static methods in <code>Arrays</code>). </p>\\n\\n<p>Or is there any other solution?</p>\\n'"
      ]
     },
     "execution_count": 5,
     "metadata": {},
     "output_type": "execute_result"
    }
   ],
   "source": [
    "df['Body'][0]"
   ]
  },
  {
   "cell_type": "code",
   "execution_count": 6,
   "id": "55577ae5",
   "metadata": {},
   "outputs": [
    {
     "name": "stdout",
     "output_type": "stream",
     "text": [
      "Wall time: 4.32 s\n"
     ]
    }
   ],
   "source": [
    "%%time\n",
    "\n",
    "df['Body'] = df['Body'].apply(lambda x: BeautifulSoup(x, 'html.parser').get_text())\n",
    "df['Title'] = df['Title'].apply(lambda x: BeautifulSoup(x, 'html.parser').get_text())"
   ]
  },
  {
   "cell_type": "code",
   "execution_count": 7,
   "id": "7b934b9a",
   "metadata": {},
   "outputs": [
    {
     "data": {
      "text/plain": [
       "'Given the following code:\\npublic static void main(String[] args) {\\n    record Foo(int[] ints){}\\n\\n    var ints = new int[]{1, 2};\\n    var foo = new Foo(ints);\\n    System.out.println(foo); // Foo[ints=[I@6433a2]\\n    System.out.println(new Foo(new int[]{1,2}).equals(new Foo(new int[]{1,2}))); // false\\n    System.out.println(new Foo(ints).equals(new Foo(ints))); //true\\n    System.out.println(foo.equals(foo)); // true\\n}\\n\\nIt seems, obviously, that array\\'s toString, equals methods are used (instead of static methods, Arrays::equals,Arrays::deepEquals  or Array::toString).\\nSo I guess Java 14 Records (JEP 359) don\\'t work too well with arrays, the respective methods have to be generated with an IDE (which at least in IntelliJ, by default generates \"useful\" methods, i.e. they use the static methods in Arrays). \\nOr is there any other solution?\\n'"
      ]
     },
     "execution_count": 7,
     "metadata": {},
     "output_type": "execute_result"
    }
   ],
   "source": [
    "df['Body'][0]"
   ]
  },
  {
   "cell_type": "code",
   "execution_count": 8,
   "id": "d42cd1f4",
   "metadata": {},
   "outputs": [],
   "source": [
    "# stemming puis lemmization"
   ]
  },
  {
   "cell_type": "code",
   "execution_count": 9,
   "id": "9486173c",
   "metadata": {},
   "outputs": [],
   "source": [
    "def clean_text(text):\n",
    "    text = re.sub(r\"\\'\", \" \", text) # match all literal apostrophe pattern then replace them by a single whitespace\n",
    "    text = re.sub(r\"\\n\", \" \", text) # match all literal Line Feed (New line) pattern then replace them by a single whitespace\n",
    "    text = re.sub(r\"\\xa0\", \" \", text) # match all literal non-breakable space pattern then replace them by a single whitespace\n",
    "    text = re.sub('\\s+', ' ', text) # match all one or more whitespace then replace them by a single whitespace\n",
    "    text = text.strip(' ')\n",
    "    return text"
   ]
  },
  {
   "cell_type": "code",
   "execution_count": 10,
   "id": "b25a9c2d",
   "metadata": {},
   "outputs": [
    {
     "name": "stdout",
     "output_type": "stream",
     "text": [
      "Wall time: 509 ms\n"
     ]
    }
   ],
   "source": [
    "%%time\n",
    "\n",
    "df['Title'] = df['Title'].apply(lambda x: clean_text(x)) \n",
    "df['Body'] = df['Body'].apply(lambda x: clean_text(x))"
   ]
  },
  {
   "cell_type": "code",
   "execution_count": 11,
   "id": "1a1150ef",
   "metadata": {},
   "outputs": [
    {
     "data": {
      "text/plain": [
       "'Given the following code: public static void main(String[] args) { record Foo(int[] ints){} var ints = new int[]{1, 2}; var foo = new Foo(ints); System.out.println(foo); // Foo[ints=[I@6433a2] System.out.println(new Foo(new int[]{1,2}).equals(new Foo(new int[]{1,2}))); // false System.out.println(new Foo(ints).equals(new Foo(ints))); //true System.out.println(foo.equals(foo)); // true } It seems, obviously, that array s toString, equals methods are used (instead of static methods, Arrays::equals,Arrays::deepEquals or Array::toString). So I guess Java 14 Records (JEP 359) don t work too well with arrays, the respective methods have to be generated with an IDE (which at least in IntelliJ, by default generates \"useful\" methods, i.e. they use the static methods in Arrays). Or is there any other solution?'"
      ]
     },
     "execution_count": 11,
     "metadata": {},
     "output_type": "execute_result"
    }
   ],
   "source": [
    "df['Body'][0]"
   ]
  },
  {
   "cell_type": "code",
   "execution_count": 12,
   "id": "698bf611",
   "metadata": {},
   "outputs": [
    {
     "name": "stdout",
     "output_type": "stream",
     "text": [
      "Wall time: 29 ms\n"
     ]
    }
   ],
   "source": [
    "%%time\n",
    "\n",
    "df['Title'] = df['Title'].str.lower()\n",
    "df['Body'] = df['Body'].str.lower()"
   ]
  },
  {
   "cell_type": "code",
   "execution_count": 13,
   "id": "5f3711b5",
   "metadata": {},
   "outputs": [
    {
     "data": {
      "text/plain": [
       "'given the following code: public static void main(string[] args) { record foo(int[] ints){} var ints = new int[]{1, 2}; var foo = new foo(ints); system.out.println(foo); // foo[ints=[i@6433a2] system.out.println(new foo(new int[]{1,2}).equals(new foo(new int[]{1,2}))); // false system.out.println(new foo(ints).equals(new foo(ints))); //true system.out.println(foo.equals(foo)); // true } it seems, obviously, that array s tostring, equals methods are used (instead of static methods, arrays::equals,arrays::deepequals or array::tostring). so i guess java 14 records (jep 359) don t work too well with arrays, the respective methods have to be generated with an ide (which at least in intellij, by default generates \"useful\" methods, i.e. they use the static methods in arrays). or is there any other solution?'"
      ]
     },
     "execution_count": 13,
     "metadata": {},
     "output_type": "execute_result"
    }
   ],
   "source": [
    "df['Body'][0]"
   ]
  },
  {
   "cell_type": "code",
   "execution_count": 14,
   "id": "1a90e0dc",
   "metadata": {},
   "outputs": [],
   "source": [
    "charac = '!\"#$%&\\'()*+,-./:;<=>?@[\\\\]^_`{|}~0123456789'\n",
    "\n",
    "def remove_punctuation_and_number(text):\n",
    "    \"\"\"remove all punctuation and number\"\"\"\n",
    "    return text.translate(str.maketrans(\" \", \" \", charac)) \n",
    "\n",
    "\n",
    "# on fait pas celui là, trop violent (supprime tout les nombres, meme ceux collés ou dans un mot)\n",
    "def remove_non_alphabetical_character(text):\n",
    "    \"\"\"remove all non-alphabetical character\"\"\"\n",
    "    text = re.sub(\"[^a-z]+\", \" \", text) # remove all non-alphabetical character\n",
    "    text = re.sub(\"\\s+\", \" \", text) # remove whitespaces left after the last operation\n",
    "    return text"
   ]
  },
  {
   "cell_type": "code",
   "execution_count": 15,
   "id": "853b3eee",
   "metadata": {},
   "outputs": [
    {
     "name": "stdout",
     "output_type": "stream",
     "text": [
      "Wall time: 862 ms\n"
     ]
    }
   ],
   "source": [
    "%%time\n",
    "\n",
    "df['Title'] = df['Title'].apply(lambda x: remove_non_alphabetical_character(x))\n",
    "df['Body'] = df['Body'].apply(lambda x: remove_non_alphabetical_character(x)) "
   ]
  },
  {
   "cell_type": "code",
   "execution_count": 16,
   "id": "515a4e63",
   "metadata": {},
   "outputs": [
    {
     "data": {
      "text/plain": [
       "'given the following code public static void main string args record foo int ints var ints new int var foo new foo ints system out println foo foo ints i a system out println new foo new int equals new foo new int false system out println new foo ints equals new foo ints true system out println foo equals foo true it seems obviously that array s tostring equals methods are used instead of static methods arrays equals arrays deepequals or array tostring so i guess java records jep don t work too well with arrays the respective methods have to be generated with an ide which at least in intellij by default generates useful methods i e they use the static methods in arrays or is there any other solution '"
      ]
     },
     "execution_count": 16,
     "metadata": {},
     "output_type": "execute_result"
    }
   ],
   "source": [
    "df['Body'][0]"
   ]
  },
  {
   "cell_type": "code",
   "execution_count": 17,
   "id": "ec0dad5d",
   "metadata": {},
   "outputs": [],
   "source": [
    "token = ToktokTokenizer()\n",
    "stop_words = set(stopwords.words(\"english\"))\n",
    "\n",
    "def remove_stopwords(text):\n",
    "    \"\"\"remove common words in english by using nltk.corpus's list\"\"\"\n",
    "    words = token.tokenize(text)\n",
    "    filtered = [w for w in words if not w in stop_words]\n",
    "    \n",
    "    return ' '.join(map(str, filtered)) # Return the text untokenize"
   ]
  },
  {
   "cell_type": "code",
   "execution_count": 18,
   "id": "09fd24d9",
   "metadata": {},
   "outputs": [
    {
     "name": "stdout",
     "output_type": "stream",
     "text": [
      "Wall time: 1.74 s\n"
     ]
    }
   ],
   "source": [
    "%%time\n",
    "\n",
    "df['Title'] = df['Title'].apply(lambda x: remove_stopwords(x))\n",
    "df['Body'] = df['Body'].apply(lambda x: remove_stopwords(x)) "
   ]
  },
  {
   "cell_type": "code",
   "execution_count": 19,
   "id": "7a8934d1",
   "metadata": {},
   "outputs": [
    {
     "data": {
      "text/plain": [
       "'given following code public static void main string args record foo int ints var ints new int var foo new foo ints system println foo foo ints system println new foo new int equals new foo new int false system println new foo ints equals new foo ints true system println foo equals foo true seems obviously array tostring equals methods used instead static methods arrays equals arrays deepequals array tostring guess java records jep work well arrays respective methods generated ide least intellij default generates useful methods e use static methods arrays solution'"
      ]
     },
     "execution_count": 19,
     "metadata": {},
     "output_type": "execute_result"
    }
   ],
   "source": [
    "df['Body'][0]"
   ]
  },
  {
   "cell_type": "code",
   "execution_count": 20,
   "id": "9d0bfb6e",
   "metadata": {},
   "outputs": [],
   "source": [
    "stemmer = PorterStemmer()\n",
    "\n",
    "def stem_text(text):\n",
    "    \"\"\"Stem the text\"\"\"\n",
    "    words = nltk.word_tokenize(text) # tokenize the text then return a list of tuple (token, nltk_tag)\n",
    "    stem_text = []\n",
    "    for word in words:\n",
    "        stem_text.append(stemmer.stem(word)) # Stem each words\n",
    "    return \" \".join(stem_text) # Return the text untokenize"
   ]
  },
  {
   "cell_type": "code",
   "execution_count": 21,
   "id": "264bebde",
   "metadata": {},
   "outputs": [
    {
     "name": "stdout",
     "output_type": "stream",
     "text": [
      "Wall time: 0 ns\n"
     ]
    }
   ],
   "source": [
    "%%time\n",
    "\n",
    "# df['Title'] = df['Title'].apply(lambda x: stem_text(x)) \n",
    "# df['Body'] = df['Body'].apply(lambda x: stem_text(x)) "
   ]
  },
  {
   "cell_type": "code",
   "execution_count": 22,
   "id": "96d04816",
   "metadata": {},
   "outputs": [
    {
     "data": {
      "text/plain": [
       "'given following code public static void main string args record foo int ints var ints new int var foo new foo ints system println foo foo ints system println new foo new int equals new foo new int false system println new foo ints equals new foo ints true system println foo equals foo true seems obviously array tostring equals methods used instead static methods arrays equals arrays deepequals array tostring guess java records jep work well arrays respective methods generated ide least intellij default generates useful methods e use static methods arrays solution'"
      ]
     },
     "execution_count": 22,
     "metadata": {},
     "output_type": "execute_result"
    }
   ],
   "source": [
    "df['Body'][0]"
   ]
  },
  {
   "cell_type": "code",
   "execution_count": 23,
   "id": "f7c8ccbc",
   "metadata": {},
   "outputs": [],
   "source": [
    "lemmatizer = WordNetLemmatizer()\n",
    "\n",
    "def lemmatize_text(text):\n",
    "    \"\"\"Lemmatize the text by using tag \"\"\"\n",
    "    \n",
    "    tokens_tagged = nltk.pos_tag(nltk.word_tokenize(text))  # tokenize the text then return a list of tuple (token, nltk_tag)\n",
    "    lemmatized_text = []\n",
    "    for word, tag in tokens_tagged:\n",
    "        if tag.startswith('J'):\n",
    "            lemmatized_text.append(lemmatizer.lemmatize(word,'a')) # Lemmatisze adjectives. Not doing anything since we remove all adjective\n",
    "        elif tag.startswith('V'):\n",
    "            lemmatized_text.append(lemmatizer.lemmatize(word,'v')) # Lemmatisze verbs\n",
    "        elif tag.startswith('N'):\n",
    "            lemmatized_text.append(lemmatizer.lemmatize(word,'n')) # Lemmatisze nouns\n",
    "        elif tag.startswith('R'):\n",
    "            lemmatized_text.append(lemmatizer.lemmatize(word,'r')) # Lemmatisze adverbs\n",
    "        else:\n",
    "            lemmatized_text.append(lemmatizer.lemmatize(word)) # If no tags has been found, perform a non specific lemmatization\n",
    "    return \" \".join(lemmatized_text) # Return the text untokenize"
   ]
  },
  {
   "cell_type": "code",
   "execution_count": 24,
   "id": "5b48f68a",
   "metadata": {},
   "outputs": [
    {
     "name": "stdout",
     "output_type": "stream",
     "text": [
      "Wall time: 1min 17s\n"
     ]
    }
   ],
   "source": [
    "%%time\n",
    "\n",
    "df['Title'] = df['Title'].apply(lambda x: lemmatize_text(x))\n",
    "df['Body'] = df['Body'].apply(lambda x: lemmatize_text(x))"
   ]
  },
  {
   "cell_type": "code",
   "execution_count": 25,
   "id": "ca65d69f",
   "metadata": {},
   "outputs": [
    {
     "data": {
      "text/plain": [
       "'give follow code public static void main string args record foo int ints var ints new int var foo new foo ints system println foo foo ints system println new foo new int equal new foo new int false system println new foo ints equal new foo ints true system println foo equal foo true seem obviously array tostring equal method use instead static method array equal array deepequals array tostring guess java record jep work well arrays respective method generate ide least intellij default generates useful method e use static method array solution'"
      ]
     },
     "execution_count": 25,
     "metadata": {},
     "output_type": "execute_result"
    }
   ],
   "source": [
    "df['Body'][0]"
   ]
  },
  {
   "cell_type": "code",
   "execution_count": 26,
   "id": "accef243",
   "metadata": {},
   "outputs": [],
   "source": [
    "df['Text'] = df['Title'] + ' ' + df['Body'] "
   ]
  },
  {
   "cell_type": "code",
   "execution_count": 27,
   "id": "403a91da",
   "metadata": {},
   "outputs": [],
   "source": [
    "df.to_csv('questions_clean.csv', encoding='utf-8', errors='surrogatepass')"
   ]
  }
 ],
 "metadata": {
  "kernelspec": {
   "display_name": "Python 3 (ipykernel)",
   "language": "python",
   "name": "python3"
  },
  "language_info": {
   "codemirror_mode": {
    "name": "ipython",
    "version": 3
   },
   "file_extension": ".py",
   "mimetype": "text/x-python",
   "name": "python",
   "nbconvert_exporter": "python",
   "pygments_lexer": "ipython3",
   "version": "3.9.7"
  }
 },
 "nbformat": 4,
 "nbformat_minor": 5
}
